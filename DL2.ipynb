{
  "nbformat": 4,
  "nbformat_minor": 0,
  "metadata": {
    "colab": {
      "provenance": []
    },
    "kernelspec": {
      "name": "python3",
      "display_name": "Python 3"
    },
    "language_info": {
      "name": "python"
    }
  },
  "cells": [
    {
      "cell_type": "markdown",
      "source": [
        "Name : Saniya Mansuri Roll no: 20CO071\n"
      ],
      "metadata": {
        "id": "RQPsZ1o6Pxt-"
      }
    },
    {
      "cell_type": "markdown",
      "source": [
        "\n",
        "2] Binary classification using Deep Neural Networks Example: Classify movie reviews into\n",
        "positive\" reviews and \"negative\" reviews, just based on the text content of the reviews.\n",
        "Use IMDB dataset\n",
        "> Add blockquote\n",
        "\n"
      ],
      "metadata": {
        "id": "yP5Dv1wuQGGT"
      }
    },
    {
      "cell_type": "code",
      "execution_count": null,
      "metadata": {
        "id": "AkR0brBYL11V"
      },
      "outputs": [],
      "source": [
        "import numpy as np\n",
        "from keras.datasets import imdb\n",
        "from keras import models\n",
        "from keras import layers\n",
        "from keras import optimizers\n",
        "from keras import losses\n",
        "from keras import metrics\n",
        "import matplotlib.pyplot as plt\n",
        "%matplotlib inline"
      ]
    },
    {
      "cell_type": "code",
      "source": [
        "(train_data, train_labels), (test_data, test_labels) = imdb.load_data(num_words = 10000)\n"
      ],
      "metadata": {
        "colab": {
          "base_uri": "https://localhost:8080/"
        },
        "id": "g_J3plIGMhet",
        "outputId": "7ca64d06-b212-4b23-a278-3a06ba8b5ba0"
      },
      "execution_count": null,
      "outputs": [
        {
          "output_type": "stream",
          "name": "stdout",
          "text": [
            "Downloading data from https://storage.googleapis.com/tensorflow/tf-keras-datasets/imdb.npz\n",
            "17464789/17464789 [==============================] - 1s 0us/step\n"
          ]
        }
      ]
    },
    {
      "cell_type": "code",
      "source": [
        "train_labels[0]\n"
      ],
      "metadata": {
        "colab": {
          "base_uri": "https://localhost:8080/"
        },
        "id": "NE-SY_8nMsBR",
        "outputId": "8efa2092-ceb6-4a49-b75a-fa24b4b53db7"
      },
      "execution_count": null,
      "outputs": [
        {
          "output_type": "execute_result",
          "data": {
            "text/plain": [
              "1"
            ]
          },
          "metadata": {},
          "execution_count": 3
        }
      ]
    },
    {
      "cell_type": "code",
      "source": [
        "print(type([max(sequence) for sequence in train_data]))\n",
        "# Find the maximum of all max indexes\n",
        "max([max(sequence) for sequence in train_data])"
      ],
      "metadata": {
        "colab": {
          "base_uri": "https://localhost:8080/"
        },
        "id": "78SiewyNMs9c",
        "outputId": "fb22280e-c817-4c1d-fe95-ce05b2395206"
      },
      "execution_count": null,
      "outputs": [
        {
          "output_type": "stream",
          "name": "stdout",
          "text": [
            "<class 'list'>\n"
          ]
        },
        {
          "output_type": "execute_result",
          "data": {
            "text/plain": [
              "9999"
            ]
          },
          "metadata": {},
          "execution_count": 4
        }
      ]
    },
    {
      "cell_type": "code",
      "source": [
        "# Let's quickly decode a review\n",
        "# step 1: load the dictionary mappings from word to integer index\n",
        "word_index = imdb.get_word_index()\n",
        "# step 2: reverse word index to map integer indexes to their respective words\n",
        "reverse_word_index = dict([(value, key) for (key, value) in word_index.items()])\n",
        "# Step 3: decode the review, mapping integer indices to words\n",
        "#\n",
        "# indices are off by 3 because 0, 1, and 2 are reserverd indices for \"padding\", \"Start of se\n",
        "decoded_review = ' '.join([reverse_word_index.get(i-3, '?') for i in train_data[0]])\n",
        "decoded_review\n"
      ],
      "metadata": {
        "colab": {
          "base_uri": "https://localhost:8080/",
          "height": 157
        },
        "id": "mw1SHjQxM0Lj",
        "outputId": "67758a08-ba7e-4a93-d56b-143b8eb6f4c9"
      },
      "execution_count": null,
      "outputs": [
        {
          "output_type": "stream",
          "name": "stdout",
          "text": [
            "Downloading data from https://storage.googleapis.com/tensorflow/tf-keras-datasets/imdb_word_index.json\n",
            "1641221/1641221 [==============================] - 1s 0us/step\n"
          ]
        },
        {
          "output_type": "execute_result",
          "data": {
            "text/plain": [
              "\"? this film was just brilliant casting location scenery story direction everyone's really suited the part they played and you could just imagine being there robert ? is an amazing actor and now the same being director ? father came from the same scottish island as myself so i loved the fact there was a real connection with this film the witty remarks throughout the film were great it was just brilliant so much that i bought the film as soon as it was released for ? and would recommend it to everyone to watch and the fly fishing was amazing really cried at the end it was so sad and you know what they say if you cry at a film it must have been good and this definitely was also ? to the two little boy's that played the ? of norman and paul they were just brilliant children are often left out of the ? list i think because the stars that play them all grown up are such a big profile for the whole film but these children are amazing and should be praised for what they have done don't you think the whole story was so lovely because it was true and was someone's life after all that was shared with us all\""
            ],
            "application/vnd.google.colaboratory.intrinsic+json": {
              "type": "string"
            }
          },
          "metadata": {},
          "execution_count": 5
        }
      ]
    },
    {
      "cell_type": "code",
      "source": [
        "len(reverse_word_index)\n"
      ],
      "metadata": {
        "colab": {
          "base_uri": "https://localhost:8080/"
        },
        "id": "RyBeNE-wM7MX",
        "outputId": "b5ca1d75-11f4-4e87-96f9-5c8d72fd554b"
      },
      "execution_count": null,
      "outputs": [
        {
          "output_type": "execute_result",
          "data": {
            "text/plain": [
              "88584"
            ]
          },
          "metadata": {},
          "execution_count": 6
        }
      ]
    },
    {
      "cell_type": "code",
      "source": [
        "def vectorize_sequences(sequences, dimension=10000):\n",
        "  results = np.zeros((len(sequences), dimension)) # Creates an all zero matrix of shape\n",
        "  for i,sequence in enumerate(sequences):\n",
        "    results[i,sequence] = 1 # Sets specific indices of results[i]\n",
        "  return results\n",
        "# Vectorize training Data\n",
        "X_train = vectorize_sequences(train_data)\n",
        "# Vectorize testing Data\n",
        "X_test = vectorize_sequences(test_data)"
      ],
      "metadata": {
        "id": "Lf2-9qjxM_Ak"
      },
      "execution_count": null,
      "outputs": []
    },
    {
      "cell_type": "code",
      "source": [
        "X_train[0]"
      ],
      "metadata": {
        "colab": {
          "base_uri": "https://localhost:8080/"
        },
        "id": "vtGg7cXDNCS3",
        "outputId": "207de0e1-0712-4f97-dcf8-0dd262aa8638"
      },
      "execution_count": null,
      "outputs": [
        {
          "output_type": "execute_result",
          "data": {
            "text/plain": [
              "array([0., 1., 1., ..., 0., 0., 0.])"
            ]
          },
          "metadata": {},
          "execution_count": 12
        }
      ]
    },
    {
      "cell_type": "code",
      "source": [
        "X_train.shape"
      ],
      "metadata": {
        "colab": {
          "base_uri": "https://localhost:8080/"
        },
        "id": "25z-4J7UNLln",
        "outputId": "5cda5ceb-052e-4aba-d8c2-49687e0a169e"
      },
      "execution_count": null,
      "outputs": [
        {
          "output_type": "execute_result",
          "data": {
            "text/plain": [
              "(25000, 10000)"
            ]
          },
          "metadata": {},
          "execution_count": 13
        }
      ]
    },
    {
      "cell_type": "code",
      "source": [
        "y_train = np.asarray(train_labels).astype('float32')\n",
        "y_test = np.asarray(test_labels).astype('float32')\n"
      ],
      "metadata": {
        "id": "MPoaj5HCNOds"
      },
      "execution_count": null,
      "outputs": []
    },
    {
      "cell_type": "code",
      "source": [
        "model = models.Sequential()\n",
        "model.add(layers.Dense(16, activation='relu', input_shape=(10000,)))\n",
        "model.add(layers.Dense(16, activation='relu'))\n",
        "model.add(layers.Dense(1, activation='sigmoid'))"
      ],
      "metadata": {
        "id": "koJU53SONSoc"
      },
      "execution_count": null,
      "outputs": []
    },
    {
      "cell_type": "code",
      "source": [
        "model.compile(\n",
        "optimizer=optimizers.RMSprop(learning_rate=0.001),\n",
        "loss = losses.binary_crossentropy,\n",
        "metrics = [metrics.binary_accuracy]\n",
        ")\n"
      ],
      "metadata": {
        "id": "xWUrrxGgNYYs"
      },
      "execution_count": null,
      "outputs": []
    },
    {
      "cell_type": "code",
      "source": [
        "# Input for Validation\n",
        "X_val = X_train[:10000]\n",
        "partial_X_train = X_train[10000:]\n",
        "# Labels for validation\n",
        "y_val = y_train[:10000]\n",
        "partial_y_train = y_train[10000:]\n"
      ],
      "metadata": {
        "id": "CvViWoWWNbTe"
      },
      "execution_count": null,
      "outputs": []
    },
    {
      "cell_type": "code",
      "source": [
        "history = model.fit(\n",
        "partial_X_train,\n",
        "partial_y_train,\n",
        "epochs=20,\n",
        "batch_size=512,\n",
        "validation_data=(X_val, y_val)\n",
        ")\n"
      ],
      "metadata": {
        "colab": {
          "base_uri": "https://localhost:8080/"
        },
        "id": "TbNhmzAoNey2",
        "outputId": "d775e93e-3cb2-4455-919a-7d3d335efcce"
      },
      "execution_count": null,
      "outputs": [
        {
          "output_type": "stream",
          "name": "stdout",
          "text": [
            "Epoch 1/20\n",
            "30/30 [==============================] - 4s 102ms/step - loss: 0.5397 - binary_accuracy: 0.7715 - val_loss: 0.4125 - val_binary_accuracy: 0.8638\n",
            "Epoch 2/20\n",
            "30/30 [==============================] - 3s 117ms/step - loss: 0.3380 - binary_accuracy: 0.8923 - val_loss: 0.3218 - val_binary_accuracy: 0.8822\n",
            "Epoch 3/20\n",
            "30/30 [==============================] - 3s 103ms/step - loss: 0.2503 - binary_accuracy: 0.9199 - val_loss: 0.2877 - val_binary_accuracy: 0.8872\n",
            "Epoch 4/20\n",
            "30/30 [==============================] - 3s 108ms/step - loss: 0.2046 - binary_accuracy: 0.9329 - val_loss: 0.2903 - val_binary_accuracy: 0.8838\n",
            "Epoch 5/20\n",
            "30/30 [==============================] - 1s 44ms/step - loss: 0.1721 - binary_accuracy: 0.9446 - val_loss: 0.2794 - val_binary_accuracy: 0.8882\n",
            "Epoch 6/20\n",
            "30/30 [==============================] - 1s 42ms/step - loss: 0.1488 - binary_accuracy: 0.9523 - val_loss: 0.2882 - val_binary_accuracy: 0.8837\n",
            "Epoch 7/20\n",
            "30/30 [==============================] - 1s 37ms/step - loss: 0.1278 - binary_accuracy: 0.9603 - val_loss: 0.2906 - val_binary_accuracy: 0.8852\n",
            "Epoch 8/20\n",
            "30/30 [==============================] - 1s 38ms/step - loss: 0.1106 - binary_accuracy: 0.9664 - val_loss: 0.3348 - val_binary_accuracy: 0.8774\n",
            "Epoch 9/20\n",
            "30/30 [==============================] - 1s 38ms/step - loss: 0.0972 - binary_accuracy: 0.9707 - val_loss: 0.3164 - val_binary_accuracy: 0.8817\n",
            "Epoch 10/20\n",
            "30/30 [==============================] - 1s 43ms/step - loss: 0.0846 - binary_accuracy: 0.9753 - val_loss: 0.3329 - val_binary_accuracy: 0.8777\n",
            "Epoch 11/20\n",
            "30/30 [==============================] - 1s 49ms/step - loss: 0.0743 - binary_accuracy: 0.9800 - val_loss: 0.3628 - val_binary_accuracy: 0.8736\n",
            "Epoch 12/20\n",
            "30/30 [==============================] - 1s 37ms/step - loss: 0.0646 - binary_accuracy: 0.9834 - val_loss: 0.3843 - val_binary_accuracy: 0.8775\n",
            "Epoch 13/20\n",
            "30/30 [==============================] - 2s 55ms/step - loss: 0.0568 - binary_accuracy: 0.9854 - val_loss: 0.3879 - val_binary_accuracy: 0.8776\n",
            "Epoch 14/20\n",
            "30/30 [==============================] - 2s 55ms/step - loss: 0.0480 - binary_accuracy: 0.9895 - val_loss: 0.4117 - val_binary_accuracy: 0.8765\n",
            "Epoch 15/20\n",
            "30/30 [==============================] - 2s 63ms/step - loss: 0.0418 - binary_accuracy: 0.9907 - val_loss: 0.4427 - val_binary_accuracy: 0.8671\n",
            "Epoch 16/20\n",
            "30/30 [==============================] - 1s 50ms/step - loss: 0.0358 - binary_accuracy: 0.9930 - val_loss: 0.4494 - val_binary_accuracy: 0.8737\n",
            "Epoch 17/20\n",
            "30/30 [==============================] - 1s 44ms/step - loss: 0.0315 - binary_accuracy: 0.9941 - val_loss: 0.4908 - val_binary_accuracy: 0.8723\n",
            "Epoch 18/20\n",
            "30/30 [==============================] - 1s 36ms/step - loss: 0.0262 - binary_accuracy: 0.9958 - val_loss: 0.4965 - val_binary_accuracy: 0.8730\n",
            "Epoch 19/20\n",
            "30/30 [==============================] - 1s 47ms/step - loss: 0.0245 - binary_accuracy: 0.9957 - val_loss: 0.5205 - val_binary_accuracy: 0.8723\n",
            "Epoch 20/20\n",
            "30/30 [==============================] - 1s 46ms/step - loss: 0.0210 - binary_accuracy: 0.9971 - val_loss: 0.5609 - val_binary_accuracy: 0.8622\n"
          ]
        }
      ]
    },
    {
      "cell_type": "code",
      "source": [
        "history_dict = history.history\n",
        "history_dict.keys()\n"
      ],
      "metadata": {
        "colab": {
          "base_uri": "https://localhost:8080/"
        },
        "id": "lJyi1pJjOiKU",
        "outputId": "20a58a3a-c995-4440-a509-d7050ac40301"
      },
      "execution_count": null,
      "outputs": [
        {
          "output_type": "execute_result",
          "data": {
            "text/plain": [
              "dict_keys(['loss', 'binary_accuracy', 'val_loss', 'val_binary_accuracy'])"
            ]
          },
          "metadata": {},
          "execution_count": 19
        }
      ]
    },
    {
      "cell_type": "code",
      "source": [
        "# Plotting losses\n",
        "loss_values = history_dict['loss']\n",
        "val_loss_values = history_dict['val_loss']\n",
        "epochs = range(1, len(loss_values) + 1)\n",
        "plt.plot(epochs, loss_values, 'g', label=\"Training Loss\")\n",
        "plt.plot(epochs, val_loss_values, 'b', label=\"Validation Loss\")\n",
        "plt.title('Training and Validation Loss')\n",
        "plt.xlabel('Epochs')\n",
        "plt.ylabel('Loss Value')\n",
        "plt.legend()\n",
        "plt.show()\n"
      ],
      "metadata": {
        "colab": {
          "base_uri": "https://localhost:8080/",
          "height": 472
        },
        "id": "uVGOGUhHOpkH",
        "outputId": "fda192ca-7876-47b0-a3bc-d1bb6b7862bd"
      },
      "execution_count": null,
      "outputs": [
        {
          "output_type": "display_data",
          "data": {
            "text/plain": [
              "<Figure size 640x480 with 1 Axes>"
            ],
            "image/png": "[encoded data removed]"
          },
          "metadata": {}
        }
      ]
    },
    {
      "cell_type": "code",
      "source": [
        "\n",
        "\n",
        "# Training and Validation Accuracy\n",
        "acc_values = history_dict['binary_accuracy']\n",
        "val_acc_values = history_dict['val_binary_accuracy']\n",
        "epochs = range(1, len(loss_values) + 1)\n",
        "plt.plot(epochs, acc_values, 'g', label=\"Training Accuracy\")\n",
        "plt.plot(epochs, val_acc_values, 'b', label=\"Validation Accuracy\")\n",
        "plt.title('Training and Validation Accuraccy')\n",
        "plt.xlabel('Epochs')\n",
        "plt.ylabel('Accuracy')\n",
        "plt.legend()\n",
        "plt.show()\n"
      ],
      "metadata": {
        "colab": {
          "base_uri": "https://localhost:8080/",
          "height": 472
        },
        "id": "5Ma2p5DMO1jC",
        "outputId": "67626585-ae2b-433b-a940-49518f6170e6"
      },
      "execution_count": null,
      "outputs": [
        {
          "output_type": "display_data",
          "data": {
            "text/plain": [
              "<Figure size 640x480 with 1 Axes>"
            ],
            "image/png": "[encoded data removed]"
          },
          "metadata": {}
        }
      ]
    },
    {
      "cell_type": "code",
      "source": [
        "model.fit(\n",
        "partial_X_train,\n",
        "partial_y_train,\n",
        "epochs=3,\n",
        "batch_size=512,\n",
        "validation_data=(X_val, y_val)\n",
        ")"
      ],
      "metadata": {
        "colab": {
          "base_uri": "https://localhost:8080/"
        },
        "id": "UrGVwPPHO-p5",
        "outputId": "3d22faee-d0df-4942-f10e-dc6c9755f623"
      },
      "execution_count": null,
      "outputs": [
        {
          "output_type": "stream",
          "name": "stdout",
          "text": [
            "Epoch 1/3\n",
            "30/30 [==============================] - 3s 88ms/step - loss: 0.0185 - binary_accuracy: 0.9976 - val_loss: 0.5615 - val_binary_accuracy: 0.8704\n",
            "Epoch 2/3\n",
            "30/30 [==============================] - 1s 48ms/step - loss: 0.0165 - binary_accuracy: 0.9979 - val_loss: 0.5823 - val_binary_accuracy: 0.8701\n",
            "Epoch 3/3\n",
            "30/30 [==============================] - 1s 48ms/step - loss: 0.0111 - binary_accuracy: 0.9994 - val_loss: 0.6601 - val_binary_accuracy: 0.8528\n"
          ]
        },
        {
          "output_type": "execute_result",
          "data": {
            "text/plain": [
              "<keras.src.callbacks.History at 0x78e50fc44b20>"
            ]
          },
          "metadata": {},
          "execution_count": 22
        }
      ]
    },
    {
      "cell_type": "code",
      "source": [
        "# Making Predictions for testing data\n",
        "np.set_printoptions(suppress=True)\n",
        "result = model.predict(X_test)\n"
      ],
      "metadata": {
        "colab": {
          "base_uri": "https://localhost:8080/"
        },
        "id": "ETLZnLuQPFjm",
        "outputId": "6455b49e-ff94-4da4-f73b-4861e303262c"
      },
      "execution_count": null,
      "outputs": [
        {
          "output_type": "stream",
          "name": "stdout",
          "text": [
            "782/782 [==============================] - 2s 2ms/step\n"
          ]
        }
      ]
    },
    {
      "cell_type": "code",
      "source": [
        "result"
      ],
      "metadata": {
        "colab": {
          "base_uri": "https://localhost:8080/"
        },
        "id": "p6rPBpuIPG4k",
        "outputId": "ffcc925d-1dce-480d-970f-458c6ae8eb8a"
      },
      "execution_count": null,
      "outputs": [
        {
          "output_type": "execute_result",
          "data": {
            "text/plain": [
              "array([[0.0079013 ],\n",
              "       [0.9999999 ],\n",
              "       [0.32366797],\n",
              "       ...,\n",
              "       [0.0019206 ],\n",
              "       [0.00282049],\n",
              "       [0.8782168 ]], dtype=float32)"
            ]
          },
          "metadata": {},
          "execution_count": 24
        }
      ]
    },
    {
      "cell_type": "code",
      "source": [
        "y_pred = np.zeros(len(result))\n",
        "for i, score in enumerate(result):\n",
        "  y_pred[i] = np.round(score)"
      ],
      "metadata": {
        "colab": {
          "base_uri": "https://localhost:8080/"
        },
        "id": "lUH0emI4PJYb",
        "outputId": "b4efe982-b05c-4e08-ff75-67574585809e"
      },
      "execution_count": null,
      "outputs": [
        {
          "output_type": "stream",
          "name": "stderr",
          "text": [
            "<ipython-input-26-a8875d258568>:3: DeprecationWarning: Conversion of an array with ndim > 0 to a scalar is deprecated, and will error in future. Ensure you extract a single element from your array before performing this operation. (Deprecated NumPy 1.25.)\n",
            "  y_pred[i] = np.round(score)\n"
          ]
        }
      ]
    },
    {
      "cell_type": "code",
      "source": [
        "mae = metrics.mean_absolute_error(y_pred, y_test)\n",
        "mae\n"
      ],
      "metadata": {
        "colab": {
          "base_uri": "https://localhost:8080/"
        },
        "id": "A5R6Nvg6PNZO",
        "outputId": "e8103eb1-066c-4231-c289-2707c9fc6a94"
      },
      "execution_count": null,
      "outputs": [
        {
          "output_type": "execute_result",
          "data": {
            "text/plain": [
              "<tf.Tensor: shape=(), dtype=float32, numpy=0.15632>"
            ]
          },
          "metadata": {},
          "execution_count": 27
        }
      ]
    },
    {
      "cell_type": "code",
      "source": [],
      "metadata": {
        "id": "YpfnGRlkPQbm"
      },
      "execution_count": null,
      "outputs": []
    }
  ]
}